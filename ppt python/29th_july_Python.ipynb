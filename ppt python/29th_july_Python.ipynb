{
 "cells": [
  {
   "cell_type": "markdown",
   "id": "a28cd147",
   "metadata": {},
   "source": [
    "# Assignment 1 - (Python)"
   ]
  },
  {
   "cell_type": "markdown",
   "id": "a03310d1",
   "metadata": {},
   "source": [
    "Q1. Write a Python program to check if a given string is an anagram. "
   ]
  },
  {
   "cell_type": "code",
   "execution_count": 3,
   "id": "3ca72e91",
   "metadata": {
    "scrolled": true
   },
   "outputs": [
    {
     "name": "stdout",
     "output_type": "stream",
     "text": [
      "Enter first string:care\n",
      "Enter second string:race\n",
      "The strings are anagram.\n"
     ]
    }
   ],
   "source": [
    "# We have to enter the both string which we want to check\n",
    "\n",
    "s1=input(\"Enter first string:\")\n",
    "        \n",
    "s2=input(\"Enter second string:\")\n",
    "     \n",
    "# Storing the value in 2 different variable\n",
    "\n",
    "# The characters of both strings are sorted \n",
    "\n",
    "# Then they are checked whether they and equal or not using if statement\n",
    "    \n",
    "if (sorted(s1)==sorted(s2)):\n",
    "    \n",
    "    print(\"The strings are anagram.\")\n",
    "\n",
    "# If they are equal than they are anagrams\n",
    "\n",
    "else:\n",
    "      print(\"The strings aren't anagram.\")\n",
    "\n",
    "# Else they aren't anagram"
   ]
  },
  {
   "cell_type": "markdown",
   "id": "bdb0b20d",
   "metadata": {},
   "source": [
    "Q2. Write a Python program to find the maximum and minimum values in a dictionary."
   ]
  },
  {
   "cell_type": "code",
   "execution_count": 6,
   "id": "ccaa7522",
   "metadata": {},
   "outputs": [
    {
     "name": "stdout",
     "output_type": "stream",
     "text": [
      "Maximum : 55\n",
      "Minimum : 23\n"
     ]
    }
   ],
   "source": [
    "# Here \"list\" dictionary has five key-value pairs, each representing a name and its corresponding age\n",
    "\n",
    "list = {\"Goku\":45 , \"Tanjiro\":23 , \"Naruto\":35 , \"Sasuke\":36 , \"Jiraya\":55}\n",
    "\n",
    "# By using \"values()\" method of the dictionary  we will extract all the values of the dictionary and \n",
    "# than store it in a variable called \"v\" #\n",
    "\n",
    "v = list.values()\n",
    "\n",
    "# now we \"max()\" and \"min()\" functions are used to find the maximum and minimum values in \"v\", respectively.\n",
    "# The results are stored in the variables \"maximum\" and \"minimum\".\n",
    "\n",
    "maximum = max(v)\n",
    "\n",
    "minimum = min(v)\n",
    "\n",
    "# Finally will print the maximum and minimum value\n",
    "\n",
    "print(\"Maximum :\",maximum)\n",
    "\n",
    "print(\"Minimum :\",minimum)"
   ]
  },
  {
   "cell_type": "markdown",
   "id": "e5418d94",
   "metadata": {},
   "source": [
    "Q3. Write a Python program to find the average of a list of numbers."
   ]
  },
  {
   "cell_type": "code",
   "execution_count": 7,
   "id": "1577e3ac",
   "metadata": {},
   "outputs": [
    {
     "name": "stdout",
     "output_type": "stream",
     "text": [
      "31.0\n"
     ]
    }
   ],
   "source": [
    "# We have a list of numbers in a variable name \"numbers\"\n",
    "\n",
    "numbers = [3,56,78,23,0,55,2]\n",
    "\n",
    "# we can find the average by using sum function and then dividing it by len fucntion \n",
    "\n",
    "# a variable name \"average\" is created in ehich we will do arthematic operation to getr average\n",
    "\n",
    "average = sum(numbers)/len(numbers)\n",
    "\n",
    "# we will print the average\n",
    "\n",
    "print(average)"
   ]
  },
  {
   "cell_type": "markdown",
   "id": "7779c67d",
   "metadata": {},
   "source": [
    "Q4. Write a Python program to remove all vowels from a string."
   ]
  },
  {
   "cell_type": "code",
   "execution_count": 9,
   "id": "ba254edc",
   "metadata": {},
   "outputs": [
    {
     "name": "stdout",
     "output_type": "stream",
     "text": [
      "Enter the word : Data engineer\n",
      "without vowels = Dt ngnr\n"
     ]
    }
   ],
   "source": [
    "# we will take input from user\n",
    "\n",
    "text = input(\"Enter the word : \")\n",
    "\n",
    "# we will create a variable name \"vowels\" as list type having the vowel letters\n",
    "\n",
    "vowels = ['a', 'e', 'i', 'o', 'u', 'A', 'E', 'I', 'O', 'U']\n",
    "\n",
    "# a empty vairable name \"newtext\" in which will will put on vowel letter\n",
    "\n",
    "newtext = \"\"\n",
    "\n",
    "# using for loop in text we will iterate single letter in text than using if statement that the iterated letter is \n",
    "# present in the vowel if not then it will be added into newtext\n",
    "\n",
    "for c in text:\n",
    "    if c not in vowels:\n",
    "        newtext = newtext + c\n",
    "        \n",
    "# we will print the result \n",
    "\n",
    "print(\"without vowels =\", newtext)"
   ]
  },
  {
   "cell_type": "markdown",
   "id": "4de1691d",
   "metadata": {},
   "source": [
    "Q5. Write a Python function to calculate the factorial of a number using recursion."
   ]
  },
  {
   "cell_type": "code",
   "execution_count": 10,
   "id": "d9967676",
   "metadata": {},
   "outputs": [
    {
     "name": "stdout",
     "output_type": "stream",
     "text": [
      "Enter a number: 4\n",
      "The factorial of 4 is 24\n"
     ]
    }
   ],
   "source": [
    "def recur_factorial(n):  \n",
    "    \n",
    "   if n == 1:  \n",
    "       return n  \n",
    "\n",
    "#if the number n is not equal to one then will do recursion    \n",
    "    \n",
    "   else:  \n",
    "       return n*recur_factorial(n-1)  \n",
    "    \n",
    "# we will take input from the user  \n",
    "\n",
    "num = int(input(\"Enter a number: \"))  \n",
    "\n",
    "# check is the number is negative  \n",
    "\n",
    "\n",
    "if num < 0:  \n",
    "    \n",
    "   print(\"Sorry, factorial does not exist for negative numbers\")  \n",
    "\n",
    "elif num == 0:  \n",
    "    \n",
    "   print(\"The factorial of 0 is 1\")  \n",
    "\n",
    "else:  \n",
    "    \n",
    "   print(\"The factorial of\",num,\"is\",recur_factorial(num))  "
   ]
  },
  {
   "cell_type": "markdown",
   "id": "8e866e48",
   "metadata": {},
   "source": [
    "Q6. Write a Python program to merge two unsorted lists into a single sorted list using the merge sort algorithm."
   ]
  },
  {
   "cell_type": "code",
   "execution_count": 6,
   "id": "74a2d9e8",
   "metadata": {},
   "outputs": [
    {
     "name": "stdout",
     "output_type": "stream",
     "text": [
      "[2, 5, 9, 22, 27, 30]\n"
     ]
    }
   ],
   "source": [
    "    def mergeSort(arr):\n",
    "        if len(arr) > 1:\n",
    " \n",
    "            # Create sub_array2 ← A[start..mid] and sub_array2 ← A[mid+1..end]\n",
    "    \n",
    "            mid = len(arr)//2\n",
    "        \n",
    "            sub_array1 = arr[:mid]\n",
    "            sub_array2 = arr[mid:]\n",
    " \n",
    "            # Sort the two halves\n",
    "    \n",
    "            mergeSort(sub_array1)\n",
    "            mergeSort(sub_array2)\n",
    "         \n",
    "            # Initial values for pointers that we use to keep track of where we are in each array\n",
    "            \n",
    "            i = j = k = 0\n",
    " \n",
    "        # Until we reach the end of either start or end, pick larger among\n",
    "    \n",
    "        # elements start and end and place them in the correct position in the sorted array\n",
    "        \n",
    "            while i < len(sub_array1) and j < len(sub_array2):\n",
    "                \n",
    "                if sub_array1[i] < sub_array2[j]:\n",
    "                    \n",
    "                    arr[k] = sub_array1[i]\n",
    "                    \n",
    "                    i += 1\n",
    "                    \n",
    "                else:\n",
    "                    \n",
    "                    arr[k] = sub_array2[j]\n",
    "                    j += 1\n",
    "                    \n",
    "                k += 1\n",
    " \n",
    "        # When all elements are traversed in either arr1 or arr2,\n",
    "    \n",
    "        # pick up the remaining elements and put in sorted array\n",
    "        \n",
    "            while i < len(sub_array1):\n",
    "                \n",
    "                arr[k] = sub_array1[i]\n",
    "                \n",
    "                i += 1\n",
    "                k += 1\n",
    " \n",
    "            while j < len(sub_array2):\n",
    "        \n",
    "                arr[k] = sub_array2[j]\n",
    "            \n",
    "                j += 1\n",
    "                k += 1\n",
    " \n",
    "\n",
    "    arr = [22, 5, 2, 30, 9, 27]\n",
    "    \n",
    "    mergeSort(arr)\n",
    "    \n",
    "    print(arr)\n"
   ]
  },
  {
   "cell_type": "markdown",
   "id": "93a98c7a",
   "metadata": {},
   "source": [
    "Q7. Write a Python program to find the GCD (Greatest Common Divisor) of two numbers."
   ]
  },
  {
   "cell_type": "code",
   "execution_count": 10,
   "id": "e7e91b68",
   "metadata": {},
   "outputs": [
    {
     "name": "stdout",
     "output_type": "stream",
     "text": [
      "Enter the number1 : 20\n",
      "Enter the number2 : 30\n",
      "GCD of 20 and 30 is 10\n"
     ]
    }
   ],
   "source": [
    "# tqking two number input from user \n",
    "\n",
    "num1 = int(input('Enter the number1 : '))\n",
    "num2 = int(input('Enter the number2 : '))\n",
    "       \n",
    "# Initialy taking gcd as 1\n",
    "           \n",
    "gcd = 1\n",
    "\n",
    "# Run a for loop in the iteration of (i) between [1, min(num1, num2)]\n",
    "\n",
    "for i in range(1, min(num1, num2)):\n",
    "           \n",
    "    if num1 % i == 0 and num2 % i == 0:\n",
    "           \n",
    "        gcd = i\n",
    "           \n",
    "print(\"GCD of\", num1, \"and\", num2, \"is\", gcd)"
   ]
  },
  {
   "cell_type": "markdown",
   "id": "30b9bc13",
   "metadata": {},
   "source": [
    "Q8. Write a Python program to find the second-largest element in a list."
   ]
  },
  {
   "cell_type": "code",
   "execution_count": 12,
   "id": "8c589ca2",
   "metadata": {},
   "outputs": [
    {
     "name": "stdout",
     "output_type": "stream",
     "text": [
      "Second largest element is: 54\n"
     ]
    }
   ],
   "source": [
    "# creating list of integer type\n",
    "\n",
    "list1 = [30,26,54,5,78]\n",
    "\n",
    "# sort the list\n",
    "\n",
    "list1.sort()\n",
    "\n",
    "# print second maximum element bt using indexing\n",
    "\n",
    "print(\"Second largest element is:\", list1[-2])\n"
   ]
  },
  {
   "cell_type": "markdown",
   "id": "f54937d7",
   "metadata": {},
   "source": [
    "Q9. Write a Python program to find the longest common subsequence between two strings using dynamic programming."
   ]
  },
  {
   "cell_type": "code",
   "execution_count": 13,
   "id": "77d48ef4",
   "metadata": {},
   "outputs": [
    {
     "name": "stdout",
     "output_type": "stream",
     "text": [
      "Length of LCS is  4\n"
     ]
    }
   ],
   "source": [
    "\n",
    "def lcs(X, Y):\n",
    "\n",
    "# find the length of the strings\n",
    "    m = len(X)\n",
    "    n = len(Y)\n",
    "\n",
    "# declaring the array for storing the dp values\n",
    "\n",
    "    L = [[None]*(n + 1) for i in range(m + 1)]\n",
    "\n",
    "# Following steps build L[m + 1][n + 1] in bottom up fashion\n",
    "\n",
    "    for i in range(m + 1):\n",
    "        \n",
    "        for j in range(n + 1):\n",
    "            \n",
    "            if i == 0 or j == 0 :\n",
    "                L[i][j] = 0\n",
    "                \n",
    "            elif X[i-1] == Y[j-1]:\n",
    "                \n",
    "                L[i][j] = L[i-1][j-1]+1\n",
    "                \n",
    "            else:\n",
    "                \n",
    "                L[i][j] = max(L[i-1][j], L[i][j-1])\n",
    "\n",
    "# L[m][n] contains the length of LCS of X[0..n-1] & Y[0..m-1]\n",
    "    \n",
    "    return L[m][n]\n",
    "\n",
    "\n",
    "# Driver program to test the above function\n",
    "\n",
    "X = \"AGGTAB\"\n",
    "\n",
    "Y = \"GXTXAYB\"\n",
    "\n",
    "print(\"Length of LCS is \", lcs(X, Y))\n",
    "\n"
   ]
  },
  {
   "cell_type": "code",
   "execution_count": null,
   "id": "7c55422c",
   "metadata": {},
   "outputs": [],
   "source": []
  },
  {
   "cell_type": "code",
   "execution_count": null,
   "id": "4cd7046e",
   "metadata": {},
   "outputs": [],
   "source": []
  },
  {
   "cell_type": "code",
   "execution_count": null,
   "id": "9c45099d",
   "metadata": {},
   "outputs": [],
   "source": []
  },
  {
   "cell_type": "code",
   "execution_count": null,
   "id": "f8d1a34f",
   "metadata": {},
   "outputs": [],
   "source": []
  },
  {
   "cell_type": "code",
   "execution_count": null,
   "id": "a39cd3dc",
   "metadata": {},
   "outputs": [],
   "source": []
  },
  {
   "cell_type": "code",
   "execution_count": null,
   "id": "4f3acd1d",
   "metadata": {},
   "outputs": [],
   "source": []
  },
  {
   "cell_type": "code",
   "execution_count": null,
   "id": "a26af004",
   "metadata": {},
   "outputs": [],
   "source": []
  },
  {
   "cell_type": "code",
   "execution_count": null,
   "id": "346d69d5",
   "metadata": {},
   "outputs": [],
   "source": []
  },
  {
   "cell_type": "code",
   "execution_count": null,
   "id": "af4f9ae6",
   "metadata": {},
   "outputs": [],
   "source": []
  },
  {
   "cell_type": "code",
   "execution_count": null,
   "id": "68e3f975",
   "metadata": {},
   "outputs": [],
   "source": []
  },
  {
   "cell_type": "code",
   "execution_count": null,
   "id": "bec58569",
   "metadata": {},
   "outputs": [],
   "source": []
  },
  {
   "cell_type": "code",
   "execution_count": null,
   "id": "7ad0927f",
   "metadata": {},
   "outputs": [],
   "source": []
  },
  {
   "cell_type": "code",
   "execution_count": null,
   "id": "0fa7f68f",
   "metadata": {},
   "outputs": [],
   "source": []
  },
  {
   "cell_type": "code",
   "execution_count": null,
   "id": "2f8e9609",
   "metadata": {},
   "outputs": [],
   "source": []
  },
  {
   "cell_type": "code",
   "execution_count": null,
   "id": "0a899b76",
   "metadata": {},
   "outputs": [],
   "source": []
  }
 ],
 "metadata": {
  "kernelspec": {
   "display_name": "Python 3 (ipykernel)",
   "language": "python",
   "name": "python3"
  },
  "language_info": {
   "codemirror_mode": {
    "name": "ipython",
    "version": 3
   },
   "file_extension": ".py",
   "mimetype": "text/x-python",
   "name": "python",
   "nbconvert_exporter": "python",
   "pygments_lexer": "ipython3",
   "version": "3.11.2"
  }
 },
 "nbformat": 4,
 "nbformat_minor": 5
}
